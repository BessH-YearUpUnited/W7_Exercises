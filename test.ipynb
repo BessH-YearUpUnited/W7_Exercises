{
 "cells": [
  {
   "cell_type": "markdown",
   "id": "79a50884-fcde-4bf8-872e-49fc14aa8b1c",
   "metadata": {},
   "source": [
    "test"
   ]
  },
  {
   "cell_type": "code",
   "execution_count": 2,
   "id": "dcaea7ae-0fcd-43f9-8e86-ec0fb9bc0128",
   "metadata": {},
   "outputs": [
    {
     "name": "stdout",
     "output_type": "stream",
     "text": [
      "banana\n",
      "banana\n",
      "banana\n",
      "banana\n",
      "banana\n"
     ]
    }
   ],
   "source": [
    "range5 = range(5)\n",
    "for i in range5:\n",
    "    print('banana')"
   ]
  },
  {
   "cell_type": "code",
   "execution_count": null,
   "id": "f0dfd98d-09b0-4050-83e0-0d3dc459c93e",
   "metadata": {},
   "outputs": [],
   "source": []
  }
 ],
 "metadata": {
  "kernelspec": {
   "display_name": "Python 3 (ipykernel)",
   "language": "python",
   "name": "python3"
  },
  "language_info": {
   "codemirror_mode": {
    "name": "ipython",
    "version": 3
   },
   "file_extension": ".py",
   "mimetype": "text/x-python",
   "name": "python",
   "nbconvert_exporter": "python",
   "pygments_lexer": "ipython3",
   "version": "3.12.3"
  }
 },
 "nbformat": 4,
 "nbformat_minor": 5
}
