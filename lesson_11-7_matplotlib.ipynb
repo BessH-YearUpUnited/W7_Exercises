{
 "cells": [
  {
   "cell_type": "markdown",
   "id": "532bde70-3012-4f5a-b3c4-e17ab146d5a4",
   "metadata": {},
   "source": [
    "# Working with Matplotlib"
   ]
  },
  {
   "cell_type": "code",
   "execution_count": null,
   "id": "3d01b021-26b5-4e88-a490-edea9ef39985",
   "metadata": {},
   "outputs": [],
   "source": [
    "import numpy as np\n",
    "import pandas as pd\n",
    "import matplotlib.pyplot as plt"
   ]
  },
  {
   "cell_type": "code",
   "execution_count": null,
   "id": "82bf5e26-36c7-4f14-b9d8-5d048c3753a7",
   "metadata": {},
   "outputs": [],
   "source": [
    "# example from page 90 in the Week 7 workbook, plotting from two NumPy arrays\n",
    "\n",
    "xpoints = np.array([2, 6]) \n",
    "ypoints = np.array([0, 8])\n",
    "\n",
    "plt.plot(xpoints, ypoints) \n",
    "\n",
    "plt.show()"
   ]
  },
  {
   "cell_type": "code",
   "execution_count": null,
   "id": "670e0474-c9ef-40cf-8397-2122da25927c",
   "metadata": {},
   "outputs": [],
   "source": [
    "sales = pd.DataFrame({\n",
    "    \"month\": [1, 2, 3, 4, 5, 6], \n",
    "    \"qty_sold\": [45, 34, 62, 55, 69, 72]\n",
    "    }) \n",
    "\n",
    "plt.title(\"Sales at 6 Months\") \n",
    "plt.xlabel(\"Month\") \n",
    "plt.ylabel(\"Quantity Sold\") \n",
    "\n",
    "plt.plot(sales['month'], sales['qty_sold']) \n",
    "\n",
    "plt.show()"
   ]
  },
  {
   "cell_type": "code",
   "execution_count": null,
   "id": "e2600433-1361-4728-a668-6cfdbcfa14dc",
   "metadata": {},
   "outputs": [],
   "source": [
    "plt.plot([2, 4, 6], [5, 3, 8], marker='o')\n",
    "\n",
    "plt.show()"
   ]
  },
  {
   "cell_type": "code",
   "execution_count": null,
   "id": "c0960919-cde6-4a0a-9080-26ea83ada456",
   "metadata": {},
   "outputs": [],
   "source": [
    "# Reusing `sales` from above\n",
    "\n",
    "plt.plot(sales['month'], sales['qty_sold'], 'o')\n",
    "\n",
    "plt.show()"
   ]
  },
  {
   "cell_type": "code",
   "execution_count": null,
   "id": "90b763a0-fc33-4d3b-9c36-cc705117597f",
   "metadata": {},
   "outputs": [],
   "source": [
    "plt.plot([2, 4, 6, 5, 3, 8], marker='o', ms=20, mfc='y')\n",
    "\n",
    "plt.show()"
   ]
  },
  {
   "cell_type": "code",
   "execution_count": null,
   "id": "517eebc3-4208-4df4-808b-f9a0a3f03842",
   "metadata": {},
   "outputs": [],
   "source": [
    "plt.plot([2, 4, 6, 5, 3, 8], 's--g')\n",
    "\n",
    "plt.show()"
   ]
  },
  {
   "cell_type": "code",
   "execution_count": null,
   "id": "339ffbf9-a82f-4d82-9d8c-493e55e5ee44",
   "metadata": {},
   "outputs": [],
   "source": [
    "a = np.array([3, 8, 1, 10]) \n",
    "b = np.array([6, 2, 7, 11]) \n",
    "\n",
    "plt.plot(a, lw=6, c='g') \n",
    "plt.plot(b, ls='--', marker='o') \n",
    "\n",
    "plt.show()"
   ]
  },
  {
   "cell_type": "markdown",
   "id": "0d16a4bd-db09-4d4c-bdcc-1675e44c1a9f",
   "metadata": {},
   "source": [
    ".\n",
    "\n",
    ".\n",
    "\n",
    ".\n",
    "\n",
    "---\n",
    "\n",
    ".\n",
    "\n",
    "."
   ]
  },
  {
   "cell_type": "markdown",
   "id": "5669625a-90c3-4023-a7da-7a737907f93d",
   "metadata": {},
   "source": [
    "# More Styling Options"
   ]
  },
  {
   "cell_type": "code",
   "execution_count": null,
   "id": "d1d0e407-5f4f-4b55-a623-4c63b7b0d99d",
   "metadata": {},
   "outputs": [],
   "source": [
    "x = np.array([100, 110, 120])\n",
    "y = np.array([240, 260, 280])\n",
    "\n",
    "font1 = {'color':'darkblue', 'size':15}\n",
    "font2 = {'family':'cursive'}\n",
    "\n",
    "plt.title(\"Activity Tracker\", fontdict = font1, loc='right')\n",
    "plt.xlabel(\"Average Pulse\", fontdict = font2)\n",
    "plt.ylabel(\"Calorie Burn\", fontdict = font2)\n",
    "\n",
    "plt.plot(x, y, c='red')\n",
    "\n",
    "plt.show()"
   ]
  },
  {
   "cell_type": "code",
   "execution_count": null,
   "id": "c0602169-e8c0-4a31-bbb2-5fefce1e26c0",
   "metadata": {},
   "outputs": [],
   "source": [
    "plt.title(\"Activity Tracker\", fontdict=font1, loc='right') \n",
    "plt.xlabel(\"Average Pulse\", fontdict = font2) \n",
    "plt.ylabel(\"Calorie Burn\", fontdict = font2) \n",
    "\n",
    "plt.plot(x, y, c='red') \n",
    "plt.grid(color = 'gray', linestyle = '--', linewidth = .5) \n",
    "\n",
    "plt.show()"
   ]
  },
  {
   "cell_type": "code",
   "execution_count": null,
   "id": "7fc4e49f-b598-4c5f-8eb6-1926d1a6052a",
   "metadata": {},
   "outputs": [],
   "source": [
    "by_product = pd.DataFrame(\n",
    "    {\"item\": ['tee', 'hoodie', 'sticker', 'water bottle'], \n",
    "     \"qty_sold\": [32,24,48,68]\n",
    "    })\n",
    "\n",
    "plt.title(\"Sales by Product\")\n",
    "plt.bar(by_product['item'], by_product['qty_sold'], color='mediumpurple', width=.6)\n",
    "\n",
    "plt.show()"
   ]
  },
  {
   "cell_type": "code",
   "execution_count": null,
   "id": "9081931f-93c3-4564-9672-279a061fd7b1",
   "metadata": {},
   "outputs": [],
   "source": [
    "a = np.array([1,2,3,4,5,6,7,8,9,10]) \n",
    "b = np.array([2,4,6,8,10,12,14,16,18,20]) \n",
    "c = np.array([0,1,2,2,3,3,4,4,3,3]) \n",
    "\n",
    "colors1 = np.array([0,10,20,30,40,60,70,80,90,100]) \n",
    "colors2 = np.array([10,25,50,75,100,75,50,25,90,0]) \n",
    "\n",
    "plt.scatter(a, b, c=colors1, cmap='winter') \n",
    "plt.colorbar() \n",
    "plt.scatter(a,c, c=colors2, cmap='plasma') \n",
    "plt.colorbar() \n",
    "plt.scatter(a,a, c='red', marker='+') \n",
    "\n",
    "plt.show()"
   ]
  },
  {
   "cell_type": "code",
   "execution_count": null,
   "id": "268f6b2f-60e1-4e0e-9eb2-277923397d77",
   "metadata": {},
   "outputs": [],
   "source": [
    "heights = np.random.normal(loc=66, scale=3, size=250) \n",
    "\n",
    "plt.figure(figsize=(10, 6)) \n",
    "plt.hist(heights, bins=15, color='skyblue', edgecolor='black')\n",
    "\n",
    "plt.title('Frequency Distribution of Heights of 250 People') \n",
    "plt.xlabel('Height (inches)') \n",
    "plt.ylabel('Number of People') \n",
    "plt.grid(axis='y', alpha=0.75) \n",
    "\n",
    "plt.show()"
   ]
  },
  {
   "cell_type": "code",
   "execution_count": null,
   "id": "a6b3629d-70ea-4732-9528-538c1ded6f36",
   "metadata": {},
   "outputs": [],
   "source": [
    "p = np.array([92,43,86,57,68]) \n",
    "\n",
    "plt.pie(p)\n",
    "# plt.pie(p, explode=[.1, 0, 0, 0, 0], labels=['a', 'b', 'c', 'd', 'e']) \n",
    "# plt.legend(['a', 'b', 'c', 'd', 'e'], title=\"Legend\")\n",
    "# plt.title('Pie Chart Example') \n",
    "# plt.xlabel('What')\n",
    "# plt.ylabel('Where')\n",
    "\n",
    "plt.show()"
   ]
  },
  {
   "cell_type": "code",
   "execution_count": null,
   "id": "49ef0567-148c-463b-a514-d06a8f8a7ae6",
   "metadata": {},
   "outputs": [],
   "source": [
    "x1 = [3,4,6,7,7,9] \n",
    "y1 = [5,4,6,4,6,7] \n",
    "x2 = np.linspace(0, 10, 100) \n",
    "y2 = np.cos(x2) \n",
    "\n",
    "fig, axes = plt.subplots(1, 2, figsize=(12, 5))\n",
    "\n",
    "axes[0].plot(x1, y1, color='blue', linestyle='-') \n",
    "axes[1].plot(x2, y2, color='red', linestyle='--') \n",
    "\n",
    "plt.show()"
   ]
  },
  {
   "cell_type": "code",
   "execution_count": null,
   "id": "7496bd5e-c46c-4378-88c1-4fe2a44d5418",
   "metadata": {},
   "outputs": [],
   "source": []
  }
 ],
 "metadata": {
  "kernelspec": {
   "display_name": "Python 3 (ipykernel)",
   "language": "python",
   "name": "python3"
  },
  "language_info": {
   "codemirror_mode": {
    "name": "ipython",
    "version": 3
   },
   "file_extension": ".py",
   "mimetype": "text/x-python",
   "name": "python",
   "nbconvert_exporter": "python",
   "pygments_lexer": "ipython3",
   "version": "3.12.3"
  }
 },
 "nbformat": 4,
 "nbformat_minor": 5
}
