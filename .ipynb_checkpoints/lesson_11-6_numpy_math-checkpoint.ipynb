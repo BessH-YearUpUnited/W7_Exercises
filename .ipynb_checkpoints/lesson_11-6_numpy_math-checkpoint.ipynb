{
 "cells": [
  {
   "cell_type": "markdown",
   "id": "1f73f784-345c-4dd5-b285-73c0008838d4",
   "metadata": {},
   "source": [
    "# Mathematical Tools in NumPy"
   ]
  },
  {
   "cell_type": "code",
   "execution_count": 1,
   "id": "e450124e-a207-4522-a7be-ca0f5d8fb03b",
   "metadata": {},
   "outputs": [],
   "source": [
    "import numpy as np"
   ]
  },
  {
   "cell_type": "code",
   "execution_count": 2,
   "id": "160e71eb-6d9d-45c1-b66e-66a5788dcceb",
   "metadata": {},
   "outputs": [
    {
     "data": {
      "text/plain": [
       "array(['a', 'b', 'c', 'd', 'e'], dtype='<U1')"
      ]
     },
     "execution_count": 2,
     "metadata": {},
     "output_type": "execute_result"
    }
   ],
   "source": [
    "a = np.array(['a', 'b', 'c', 'd', 'e'])\n",
    "a"
   ]
  },
  {
   "cell_type": "code",
   "execution_count": 3,
   "id": "dd6b9040-5456-43e2-94fd-b18094c7f502",
   "metadata": {},
   "outputs": [
    {
     "data": {
      "text/plain": [
       "array(['d', 'c', 'a', 'b', 'e'], dtype='<U1')"
      ]
     },
     "execution_count": 3,
     "metadata": {},
     "output_type": "execute_result"
    }
   ],
   "source": [
    "np.random.permutation(a)"
   ]
  },
  {
   "cell_type": "code",
   "execution_count": 4,
   "id": "1e1d559a-97a2-4240-b4d6-b850c5ecbd30",
   "metadata": {},
   "outputs": [
    {
     "data": {
      "text/plain": [
       "array(['a', 'b', 'c', 'd', 'e'], dtype='<U1')"
      ]
     },
     "execution_count": 4,
     "metadata": {},
     "output_type": "execute_result"
    }
   ],
   "source": [
    "a"
   ]
  },
  {
   "cell_type": "code",
   "execution_count": 5,
   "id": "c220d448-add6-473e-baf3-8b8f2d4b98ec",
   "metadata": {},
   "outputs": [],
   "source": [
    "np.random.shuffle(a)"
   ]
  },
  {
   "cell_type": "code",
   "execution_count": 6,
   "id": "39346f36-0c12-46f2-a72a-dd872e299c5e",
   "metadata": {},
   "outputs": [
    {
     "data": {
      "text/plain": [
       "array(['a', 'd', 'b', 'e', 'c'], dtype='<U1')"
      ]
     },
     "execution_count": 6,
     "metadata": {},
     "output_type": "execute_result"
    }
   ],
   "source": [
    "a"
   ]
  },
  {
   "cell_type": "markdown",
   "id": "52957467-e109-4977-ae27-794f6573835c",
   "metadata": {},
   "source": [
    "### Math operations"
   ]
  },
  {
   "cell_type": "code",
   "execution_count": 7,
   "id": "7679edac-8345-4f7a-969b-f518c8c99da4",
   "metadata": {},
   "outputs": [
    {
     "data": {
      "text/plain": [
       "array([1, 2, 3, 4, 5])"
      ]
     },
     "execution_count": 7,
     "metadata": {},
     "output_type": "execute_result"
    }
   ],
   "source": [
    "b = np.array([1, 2, 3, 4, 5])\n",
    "b"
   ]
  },
  {
   "cell_type": "code",
   "execution_count": 8,
   "id": "abeeffa6-7a5f-45fb-b157-692900535ad2",
   "metadata": {},
   "outputs": [],
   "source": [
    "c = np.array([2, 2, 2, 2, 2])"
   ]
  },
  {
   "cell_type": "code",
   "execution_count": 9,
   "id": "c2cbbae8-28a6-42c9-b550-60d55b53ad71",
   "metadata": {},
   "outputs": [
    {
     "data": {
      "text/plain": [
       "array([3, 4, 5, 6, 7])"
      ]
     },
     "execution_count": 9,
     "metadata": {},
     "output_type": "execute_result"
    }
   ],
   "source": [
    "result = np.add(b, c)\n",
    "result"
   ]
  },
  {
   "cell_type": "code",
   "execution_count": 10,
   "id": "8f2bdeb7-d90b-45ab-a6ad-5461ed6c0a62",
   "metadata": {},
   "outputs": [
    {
     "data": {
      "text/plain": [
       "array([0.5, 1. , 1.5, 2. , 2.5])"
      ]
     },
     "execution_count": 10,
     "metadata": {},
     "output_type": "execute_result"
    }
   ],
   "source": [
    "result_div = np.divide(b, c)\n",
    "result_div"
   ]
  },
  {
   "cell_type": "code",
   "execution_count": 11,
   "id": "308e2cae-9943-4f26-b43b-81b0a5535ee4",
   "metadata": {},
   "outputs": [
    {
     "data": {
      "text/plain": [
       "(array([0, 1, 1, 2, 2]), array([1, 0, 1, 0, 1]))"
      ]
     },
     "execution_count": 11,
     "metadata": {},
     "output_type": "execute_result"
    }
   ],
   "source": [
    "result_divmod = np.divmod(b, c)\n",
    "result_divmod"
   ]
  },
  {
   "cell_type": "markdown",
   "id": "e7526950-f480-4836-9602-71140c277416",
   "metadata": {},
   "source": [
    "### Summations"
   ]
  },
  {
   "cell_type": "code",
   "execution_count": 12,
   "id": "45443f4d-e5bf-4c33-b935-b691335c847d",
   "metadata": {},
   "outputs": [],
   "source": [
    "a = np.array([1, 2, 3]) \n",
    "b = np.array([1, 2, 3]) \n",
    "x = np.array([1, 1, 1])"
   ]
  },
  {
   "cell_type": "code",
   "execution_count": 13,
   "id": "36d5cf1e-f457-4218-aef3-9ff4649f3e21",
   "metadata": {},
   "outputs": [
    {
     "data": {
      "text/plain": [
       "array([6, 6, 3])"
      ]
     },
     "execution_count": 13,
     "metadata": {},
     "output_type": "execute_result"
    }
   ],
   "source": [
    "c = np.sum([a, b, x], axis=1)\n",
    "c"
   ]
  },
  {
   "cell_type": "code",
   "execution_count": 14,
   "id": "12af41b6-22ba-41d2-aa89-fc9b97313f31",
   "metadata": {},
   "outputs": [
    {
     "data": {
      "text/plain": [
       "array([3, 5, 7])"
      ]
     },
     "execution_count": 14,
     "metadata": {},
     "output_type": "execute_result"
    }
   ],
   "source": [
    "d = np.sum([a, b, x], axis=0)\n",
    "d"
   ]
  },
  {
   "cell_type": "code",
   "execution_count": 15,
   "id": "edda350e-31de-44c7-af8d-20041c23b289",
   "metadata": {},
   "outputs": [
    {
     "data": {
      "text/plain": [
       "array([1, 3, 6])"
      ]
     },
     "execution_count": 15,
     "metadata": {},
     "output_type": "execute_result"
    }
   ],
   "source": [
    "a_cumul = np.cumsum(a)\n",
    "a_cumul"
   ]
  },
  {
   "cell_type": "code",
   "execution_count": 16,
   "id": "ca1c5a28-8644-4a2a-972d-b9d5e85d9669",
   "metadata": {},
   "outputs": [
    {
     "data": {
      "text/plain": [
       "array([1, 2, 3])"
      ]
     },
     "execution_count": 16,
     "metadata": {},
     "output_type": "execute_result"
    }
   ],
   "source": [
    "x_cumul = np.cumsum(x)\n",
    "x_cumul "
   ]
  },
  {
   "cell_type": "code",
   "execution_count": 17,
   "id": "87daec43-9cd9-4f67-9220-b982571daef5",
   "metadata": {},
   "outputs": [
    {
     "data": {
      "text/plain": [
       "array([1, 2, 6])"
      ]
     },
     "execution_count": 17,
     "metadata": {},
     "output_type": "execute_result"
    }
   ],
   "source": [
    "a_cprod = np.cumprod(a)\n",
    "a_cprod"
   ]
  },
  {
   "cell_type": "code",
   "execution_count": 18,
   "id": "1e1e6e5b-1049-41e8-8393-fae9d8c8b43d",
   "metadata": {},
   "outputs": [
    {
     "data": {
      "text/plain": [
       "array([6, 6])"
      ]
     },
     "execution_count": 18,
     "metadata": {},
     "output_type": "execute_result"
    }
   ],
   "source": [
    "a_prod = np.prod([a,b], axis=1)\n",
    "a_prod"
   ]
  },
  {
   "cell_type": "code",
   "execution_count": 19,
   "id": "185c2112-18ec-4dec-bd51-d44aea515c76",
   "metadata": {},
   "outputs": [
    {
     "data": {
      "text/plain": [
       "array([1, 4, 9])"
      ]
     },
     "execution_count": 19,
     "metadata": {},
     "output_type": "execute_result"
    }
   ],
   "source": [
    "a_prod2 = np.prod([a,b], axis=0)\n",
    "a_prod2"
   ]
  },
  {
   "cell_type": "markdown",
   "id": "11af6d54-fde4-4db6-b28a-c74b79066a01",
   "metadata": {},
   "source": [
    "### Subtraction"
   ]
  },
  {
   "cell_type": "code",
   "execution_count": 20,
   "id": "fd022620-85c2-4dd1-8631-a711ae996f94",
   "metadata": {},
   "outputs": [
    {
     "data": {
      "text/plain": [
       "array([1, 2, 3])"
      ]
     },
     "execution_count": 20,
     "metadata": {},
     "output_type": "execute_result"
    }
   ],
   "source": [
    "a"
   ]
  },
  {
   "cell_type": "code",
   "execution_count": 21,
   "id": "fc14986f-2f50-433c-b539-043d571f7394",
   "metadata": {},
   "outputs": [
    {
     "data": {
      "text/plain": [
       "array([1, 1, 1])"
      ]
     },
     "execution_count": 21,
     "metadata": {},
     "output_type": "execute_result"
    }
   ],
   "source": [
    "x"
   ]
  },
  {
   "cell_type": "code",
   "execution_count": 22,
   "id": "a53b59e7-db42-4f01-a912-4dea54a92aa0",
   "metadata": {},
   "outputs": [
    {
     "data": {
      "text/plain": [
       "array([0, 1, 2])"
      ]
     },
     "execution_count": 22,
     "metadata": {},
     "output_type": "execute_result"
    }
   ],
   "source": [
    "a_sub_x = np.subtract(a, x)\n",
    "a_sub_x"
   ]
  },
  {
   "cell_type": "markdown",
   "id": "5e3de884-724c-4bc3-b140-0a7236dbead2",
   "metadata": {},
   "source": [
    "### Differences"
   ]
  },
  {
   "cell_type": "code",
   "execution_count": 23,
   "id": "04f5f446-0087-445d-9ccf-0989b8597ea9",
   "metadata": {},
   "outputs": [
    {
     "data": {
      "text/plain": [
       "array([1, 1])"
      ]
     },
     "execution_count": 23,
     "metadata": {},
     "output_type": "execute_result"
    }
   ],
   "source": [
    "a_diff = np.diff(a)\n",
    "a_diff"
   ]
  },
  {
   "cell_type": "code",
   "execution_count": 24,
   "id": "1bbb9ebc-1786-4793-a4ab-60f1f01ecedd",
   "metadata": {},
   "outputs": [
    {
     "data": {
      "text/plain": [
       "array([0, 0])"
      ]
     },
     "execution_count": 24,
     "metadata": {},
     "output_type": "execute_result"
    }
   ],
   "source": [
    "x_diff = np.diff(x)\n",
    "x_diff"
   ]
  },
  {
   "cell_type": "code",
   "execution_count": 25,
   "id": "7478fc87-36ea-49b3-8d54-fe61a1c89c5c",
   "metadata": {},
   "outputs": [
    {
     "data": {
      "text/plain": [
       "array([ -5,  15, -17])"
      ]
     },
     "execution_count": 25,
     "metadata": {},
     "output_type": "execute_result"
    }
   ],
   "source": [
    "w = np.array([10, 5, 20, 3])\n",
    "\n",
    "w_diff = np.diff(w)\n",
    "w_diff"
   ]
  },
  {
   "cell_type": "code",
   "execution_count": 27,
   "id": "f4a7a595-a8f7-4dae-adc6-7a3576e94b92",
   "metadata": {},
   "outputs": [
    {
     "data": {
      "text/plain": [
       "array([ 20, -32])"
      ]
     },
     "execution_count": 27,
     "metadata": {},
     "output_type": "execute_result"
    }
   ],
   "source": [
    "w_diff_2 = np.diff(w, n=2)\n",
    "w_diff_2"
   ]
  },
  {
   "cell_type": "code",
   "execution_count": 26,
   "id": "f45bc5ea-a83c-4977-9b7a-8bb44565d648",
   "metadata": {},
   "outputs": [
    {
     "data": {
      "text/plain": [
       "array([-52])"
      ]
     },
     "execution_count": 26,
     "metadata": {},
     "output_type": "execute_result"
    }
   ],
   "source": [
    "w_diff_3 = np.diff(w, n=3)\n",
    "w_diff_3"
   ]
  },
  {
   "cell_type": "code",
   "execution_count": 29,
   "id": "a3a98063-a1ea-497f-9003-b3ca135dd628",
   "metadata": {},
   "outputs": [
    {
     "name": "stdout",
     "output_type": "stream",
     "text": [
      "[ -5  15 -17]\n",
      "[ 20 -32]\n",
      "[-52]\n"
     ]
    }
   ],
   "source": [
    "w = np.array([10, 5, 20, 3])\n",
    "\n",
    "w_diff = np.diff(w)\n",
    "print(w_diff)\n",
    "\n",
    "w_diff_2 = np.diff(w, n=2)\n",
    "print(w_diff_2)\n",
    "\n",
    "w_diff_3 = np.diff(w, n=3)\n",
    "print(w_diff_3)"
   ]
  },
  {
   "cell_type": "code",
   "execution_count": null,
   "id": "8d3f08bc-eb4e-4923-8cdd-bf6fd1a40fcc",
   "metadata": {},
   "outputs": [],
   "source": []
  }
 ],
 "metadata": {
  "kernelspec": {
   "display_name": "Python 3 (ipykernel)",
   "language": "python",
   "name": "python3"
  },
  "language_info": {
   "codemirror_mode": {
    "name": "ipython",
    "version": 3
   },
   "file_extension": ".py",
   "mimetype": "text/x-python",
   "name": "python",
   "nbconvert_exporter": "python",
   "pygments_lexer": "ipython3",
   "version": "3.12.3"
  }
 },
 "nbformat": 4,
 "nbformat_minor": 5
}
