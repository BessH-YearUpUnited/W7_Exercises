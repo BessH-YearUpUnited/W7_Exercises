{
 "cells": [
  {
   "cell_type": "markdown",
   "id": "8b3143cd-8506-49ee-a27e-9462e261ad36",
   "metadata": {},
   "source": [
    "# Examples - Tues, Nov 5\n",
    "## Section 2.B, \"Continuing NumPy\""
   ]
  },
  {
   "cell_type": "code",
   "execution_count": 1,
   "id": "7b0dff6b-a453-40e9-ab0a-bae426b082bf",
   "metadata": {},
   "outputs": [],
   "source": [
    "import numpy as np"
   ]
  },
  {
   "cell_type": "markdown",
   "id": "0e05c10f-cef1-4757-95b4-6b22219552de",
   "metadata": {},
   "source": [
    "2.B.1 Using loops with arrays"
   ]
  },
  {
   "cell_type": "code",
   "execution_count": 2,
   "id": "fc18b41c-afb2-4692-af8f-2ab0e5eb13eb",
   "metadata": {},
   "outputs": [
    {
     "data": {
      "text/plain": [
       "array([2, 4, 6, 8])"
      ]
     },
     "execution_count": 2,
     "metadata": {},
     "output_type": "execute_result"
    }
   ],
   "source": [
    "array1d = np.array([2, 4, 6, 8])\n",
    "array1d"
   ]
  },
  {
   "cell_type": "code",
   "execution_count": 4,
   "id": "79cf6175-05d0-423f-b7fb-20d161216dc6",
   "metadata": {},
   "outputs": [
    {
     "name": "stdout",
     "output_type": "stream",
     "text": [
      "2\n",
      "4\n",
      "6\n",
      "8\n"
     ]
    }
   ],
   "source": [
    "for i in array1d:\n",
    "    print(i)"
   ]
  },
  {
   "cell_type": "code",
   "execution_count": 6,
   "id": "869f5743-d82b-4fe7-a091-ec14d27f8e58",
   "metadata": {},
   "outputs": [
    {
     "name": "stdout",
     "output_type": "stream",
     "text": [
      "[[8 7]\n",
      " [6 5]]\n",
      "[[4 3]\n",
      " [2 1]]\n"
     ]
    }
   ],
   "source": [
    "arr3d = np.array([[[8,7], [6, 5]], [[4, 3], [2, 1]]])\n",
    "\n",
    "for i in arr3d:\n",
    "    print(i)"
   ]
  },
  {
   "cell_type": "code",
   "execution_count": 7,
   "id": "95797a03-fbf1-4453-9539-fd2ef48d11cb",
   "metadata": {},
   "outputs": [
    {
     "name": "stdout",
     "output_type": "stream",
     "text": [
      "[8 7]\n",
      "[6 5]\n",
      "[4 3]\n",
      "[2 1]\n"
     ]
    }
   ],
   "source": [
    "for i in arr3d:\n",
    "    for x in i:\n",
    "        print(x)"
   ]
  },
  {
   "cell_type": "code",
   "execution_count": 8,
   "id": "158edaed-e3df-4811-ad68-44849825de76",
   "metadata": {},
   "outputs": [
    {
     "name": "stdout",
     "output_type": "stream",
     "text": [
      "8\n",
      "7\n",
      "6\n",
      "5\n",
      "4\n",
      "3\n",
      "2\n",
      "1\n"
     ]
    }
   ],
   "source": [
    "for i in arr3d:\n",
    "    for x in i:\n",
    "        for a in x:\n",
    "            print(a)"
   ]
  },
  {
   "cell_type": "markdown",
   "id": "244100fa-34dc-459a-bdaf-626894887e88",
   "metadata": {},
   "source": [
    "### 2.B.2 Joining arrays with `concatenate()`"
   ]
  },
  {
   "cell_type": "code",
   "execution_count": 9,
   "id": "865fe56a-ef10-4a10-b2f1-5ce8529bbdd7",
   "metadata": {},
   "outputs": [],
   "source": [
    "arr_a = np.array([1, 2, 3])\n",
    "arr_b = np.array([11, 12, 13])"
   ]
  },
  {
   "cell_type": "code",
   "execution_count": 12,
   "id": "8f47469c-05a0-4249-8eac-e534a43f2ac7",
   "metadata": {},
   "outputs": [
    {
     "data": {
      "text/plain": [
       "array([ 1,  2,  3, 11, 12, 13])"
      ]
     },
     "execution_count": 12,
     "metadata": {},
     "output_type": "execute_result"
    }
   ],
   "source": [
    "arr_c = np.concatenate((arr_a, arr_b))\n",
    "arr_c"
   ]
  },
  {
   "cell_type": "code",
   "execution_count": 14,
   "id": "718d515f-391a-4b42-bad7-953fd4ca889a",
   "metadata": {},
   "outputs": [
    {
     "data": {
      "text/plain": [
       "array([ 1,  2,  3, 11, 12, 13])"
      ]
     },
     "execution_count": 14,
     "metadata": {},
     "output_type": "execute_result"
    }
   ],
   "source": [
    "arr_d = np.concatenate((arr_a, arr_b), axis=0)\n",
    "arr_d"
   ]
  },
  {
   "cell_type": "code",
   "execution_count": 16,
   "id": "2f8bc54b-6f06-4b34-b850-940430092583",
   "metadata": {},
   "outputs": [
    {
     "data": {
      "text/plain": [
       "array([[ 1,  2,  3],\n",
       "       [11, 12, 13]])"
      ]
     },
     "execution_count": 16,
     "metadata": {},
     "output_type": "execute_result"
    }
   ],
   "source": [
    "arr_stacked = np.stack((arr_a, arr_b))\n",
    "arr_stacked"
   ]
  },
  {
   "cell_type": "code",
   "execution_count": 18,
   "id": "84ef2b98-da29-41da-a896-8a86ef874dc3",
   "metadata": {},
   "outputs": [
    {
     "data": {
      "text/plain": [
       "array([[ 1, 11],\n",
       "       [ 2, 12],\n",
       "       [ 3, 13]])"
      ]
     },
     "execution_count": 18,
     "metadata": {},
     "output_type": "execute_result"
    }
   ],
   "source": [
    "arr_stacked2 = np.stack((arr_a, arr_b), axis=1)\n",
    "arr_stacked2"
   ]
  },
  {
   "cell_type": "code",
   "execution_count": 19,
   "id": "5d5d5f54-bade-41a6-88c1-f1adb3a205a2",
   "metadata": {},
   "outputs": [
    {
     "data": {
      "text/plain": [
       "array([[ 1,  2,  3],\n",
       "       [11, 12, 13],\n",
       "       [ 1,  2,  3],\n",
       "       [11, 12, 13]])"
      ]
     },
     "execution_count": 19,
     "metadata": {},
     "output_type": "execute_result"
    }
   ],
   "source": [
    "stack_of_stacks = np.concatenate((arr_stacked, arr_stacked))\n",
    "stack_of_stacks"
   ]
  },
  {
   "cell_type": "code",
   "execution_count": 20,
   "id": "4b3f2c1b-c98a-4645-ac95-8e0ad49fdc03",
   "metadata": {},
   "outputs": [
    {
     "data": {
      "text/plain": [
       "array([[ 1,  2,  3,  1,  2,  3],\n",
       "       [11, 12, 13, 11, 12, 13]])"
      ]
     },
     "execution_count": 20,
     "metadata": {},
     "output_type": "execute_result"
    }
   ],
   "source": [
    "stack_of_stacks2 = np.concatenate((arr_stacked, arr_stacked), axis=1)\n",
    "stack_of_stacks2"
   ]
  },
  {
   "cell_type": "code",
   "execution_count": 28,
   "id": "eefc6e4e-3b59-4d93-97b2-054198356183",
   "metadata": {},
   "outputs": [
    {
     "data": {
      "text/plain": [
       "array([[ 1,  2,  3],\n",
       "       [11, 12, 13],\n",
       "       [ 1,  2,  3],\n",
       "       [11, 12, 13]])"
      ]
     },
     "execution_count": 28,
     "metadata": {},
     "output_type": "execute_result"
    }
   ],
   "source": [
    "ex_vstack = np.vstack((arr_stacked,arr_stacked))\n",
    "ex_vstack"
   ]
  },
  {
   "cell_type": "code",
   "execution_count": 29,
   "id": "556c069c-8dad-4d16-9902-3c77cfe3d54c",
   "metadata": {},
   "outputs": [
    {
     "data": {
      "text/plain": [
       "array([[ 1,  2,  3,  1,  2,  3],\n",
       "       [11, 12, 13, 11, 12, 13]])"
      ]
     },
     "execution_count": 29,
     "metadata": {},
     "output_type": "execute_result"
    }
   ],
   "source": [
    "ex_hstack = np.hstack((arr_stacked,arr_stacked))\n",
    "ex_hstack"
   ]
  },
  {
   "cell_type": "code",
   "execution_count": 30,
   "id": "f7e7bc61-419f-438c-9efb-0f7c230fc590",
   "metadata": {},
   "outputs": [
    {
     "data": {
      "text/plain": [
       "array([[[ 1,  1],\n",
       "        [ 2,  2],\n",
       "        [ 3,  3]],\n",
       "\n",
       "       [[11, 11],\n",
       "        [12, 12],\n",
       "        [13, 13]]])"
      ]
     },
     "execution_count": 30,
     "metadata": {},
     "output_type": "execute_result"
    }
   ],
   "source": [
    "ex_dstack = np.dstack((arr_stacked,arr_stacked))\n",
    "ex_dstack"
   ]
  },
  {
   "cell_type": "markdown",
   "id": "ca3659f5-7155-433b-a1d7-fe67d781f7f7",
   "metadata": {},
   "source": [
    "### 2.B.5 Splitting arrays"
   ]
  },
  {
   "cell_type": "code",
   "execution_count": 31,
   "id": "85916a75-5fa4-4e45-96f6-4d1072ebc8af",
   "metadata": {},
   "outputs": [
    {
     "data": {
      "text/plain": [
       "array([[ 1,  2,  3],\n",
       "       [11, 12, 13],\n",
       "       [ 1,  2,  3],\n",
       "       [11, 12, 13]])"
      ]
     },
     "execution_count": 31,
     "metadata": {},
     "output_type": "execute_result"
    }
   ],
   "source": [
    "ex_vstack"
   ]
  },
  {
   "cell_type": "code",
   "execution_count": 33,
   "id": "02835304-9381-46ca-bcb5-34192c61c029",
   "metadata": {},
   "outputs": [
    {
     "data": {
      "text/plain": [
       "[array([[ 1,  2,  3],\n",
       "        [11, 12, 13]]),\n",
       " array([[1, 2, 3]]),\n",
       " array([[11, 12, 13]])]"
      ]
     },
     "execution_count": 33,
     "metadata": {},
     "output_type": "execute_result"
    }
   ],
   "source": [
    "split_3_ways = np.array_split(ex_vstack, 3)\n",
    "split_3_ways"
   ]
  },
  {
   "cell_type": "code",
   "execution_count": 34,
   "id": "01296e95-11ac-44a5-a5e7-ab5978b133d6",
   "metadata": {},
   "outputs": [
    {
     "data": {
      "text/plain": [
       "[array([[1, 2, 3]]),\n",
       " array([[11, 12, 13]]),\n",
       " array([[1, 2, 3]]),\n",
       " array([[11, 12, 13]])]"
      ]
     },
     "execution_count": 34,
     "metadata": {},
     "output_type": "execute_result"
    }
   ],
   "source": [
    "split_4_ways = np.array_split(ex_vstack, 4)\n",
    "split_4_ways"
   ]
  },
  {
   "cell_type": "code",
   "execution_count": 35,
   "id": "d0b0cdb7-a9be-4814-8359-ac575d215faa",
   "metadata": {},
   "outputs": [
    {
     "data": {
      "text/plain": [
       "[array([[1, 2, 3]]),\n",
       " array([[11, 12, 13]]),\n",
       " array([[1, 2, 3]]),\n",
       " array([[11, 12, 13]])]"
      ]
     },
     "execution_count": 35,
     "metadata": {},
     "output_type": "execute_result"
    }
   ],
   "source": [
    "split_4_0 = np.array_split(ex_vstack, 4, axis=0)\n",
    "split_4_0"
   ]
  },
  {
   "cell_type": "code",
   "execution_count": 36,
   "id": "32b7a1b7-f13d-4c59-9445-c3a8bde9ad0b",
   "metadata": {},
   "outputs": [
    {
     "data": {
      "text/plain": [
       "[array([[ 1],\n",
       "        [11],\n",
       "        [ 1],\n",
       "        [11]]),\n",
       " array([[ 2],\n",
       "        [12],\n",
       "        [ 2],\n",
       "        [12]]),\n",
       " array([[ 3],\n",
       "        [13],\n",
       "        [ 3],\n",
       "        [13]]),\n",
       " array([], shape=(4, 0), dtype=int32)]"
      ]
     },
     "execution_count": 36,
     "metadata": {},
     "output_type": "execute_result"
    }
   ],
   "source": [
    "split_4_1 = np.array_split(ex_vstack, 4, axis=1)\n",
    "split_4_1"
   ]
  },
  {
   "cell_type": "code",
   "execution_count": null,
   "id": "ebc47c48-71aa-4fc3-b695-7e3204917973",
   "metadata": {},
   "outputs": [],
   "source": [
    "# helper functions: hsplit(), vsplit(), dsplit()"
   ]
  },
  {
   "cell_type": "markdown",
   "id": "a63f778b-aed6-4327-b751-3fbf0da572a4",
   "metadata": {},
   "source": [
    "### 2.B.6 Using `where()` to search and alter arrays"
   ]
  },
  {
   "cell_type": "code",
   "execution_count": 37,
   "id": "da088a5c-ecc9-483c-bfe2-42656d29c15f",
   "metadata": {},
   "outputs": [
    {
     "data": {
      "text/plain": [
       "(array([0, 2, 4], dtype=int64),)"
      ]
     },
     "execution_count": 37,
     "metadata": {},
     "output_type": "execute_result"
    }
   ],
   "source": [
    "values = np.array([4, 9, 4, 8, 0, 6])\n",
    "cond1 = np.where(values < 5)\n",
    "cond1"
   ]
  },
  {
   "cell_type": "code",
   "execution_count": 39,
   "id": "7c6cd503-ac6d-4229-b4fe-4c93432db33a",
   "metadata": {},
   "outputs": [
    {
     "name": "stdout",
     "output_type": "stream",
     "text": [
      "[[0 2 4]]\n"
     ]
    }
   ],
   "source": [
    "print(np.array(cond1))"
   ]
  },
  {
   "cell_type": "code",
   "execution_count": 40,
   "id": "1d20ac2d-0124-4c0a-a94a-2daced179dcd",
   "metadata": {},
   "outputs": [
    {
     "name": "stdout",
     "output_type": "stream",
     "text": [
      "(array([0, 2, 4], dtype=int64),)\n"
     ]
    }
   ],
   "source": [
    "print(cond1)"
   ]
  },
  {
   "cell_type": "code",
   "execution_count": 43,
   "id": "d2a88d96-9b89-4e56-b5a3-56c4a759c747",
   "metadata": {},
   "outputs": [
    {
     "name": "stdout",
     "output_type": "stream",
     "text": [
      "[4.  8.1 4.  7.2 0.  5.4]\n"
     ]
    }
   ],
   "source": [
    "cond2 = np.where(values < 5, values, values * .9)\n",
    "print(cond2)"
   ]
  },
  {
   "cell_type": "code",
   "execution_count": 44,
   "id": "73e0b628-141d-4554-92b8-f132cb33e27d",
   "metadata": {},
   "outputs": [
    {
     "name": "stdout",
     "output_type": "stream",
     "text": [
      "['4' 'over 5' '4' 'over 5' '0' 'over 5']\n"
     ]
    }
   ],
   "source": [
    "cond3 = np.where(values < 5, values, 'over 5')\n",
    "print(cond3)"
   ]
  },
  {
   "cell_type": "code",
   "execution_count": 45,
   "id": "fd83ce2b-6d24-4ceb-a7df-e50d7660687e",
   "metadata": {},
   "outputs": [
    {
     "data": {
      "text/plain": [
       "array([[ 1,  2,  3],\n",
       "       [11, 12, 13],\n",
       "       [ 1,  2,  3],\n",
       "       [11, 12, 13]])"
      ]
     },
     "execution_count": 45,
     "metadata": {},
     "output_type": "execute_result"
    }
   ],
   "source": [
    "ex_vstack"
   ]
  },
  {
   "cell_type": "code",
   "execution_count": 49,
   "id": "269e3ffa-1cc9-4749-8464-217e8b7c6532",
   "metadata": {},
   "outputs": [],
   "source": [
    "cond4 = np.where(ex_vstack > 10)"
   ]
  },
  {
   "cell_type": "code",
   "execution_count": 50,
   "id": "f79c4322-de98-43bd-b77c-da72d66a1697",
   "metadata": {},
   "outputs": [
    {
     "name": "stdout",
     "output_type": "stream",
     "text": [
      "[['down' 'down' 'down']\n",
      " ['11' '12' '13']\n",
      " ['down' 'down' 'down']\n",
      " ['11' '12' '13']]\n"
     ]
    }
   ],
   "source": [
    "cond5 = np.where(ex_vstack > 10, ex_vstack, 'down')\n",
    "print(cond5)"
   ]
  },
  {
   "cell_type": "markdown",
   "id": "b0478d42-0faa-43e8-a335-17b435883742",
   "metadata": {},
   "source": [
    "### 2.B.7 Sorting arrays"
   ]
  },
  {
   "cell_type": "code",
   "execution_count": 52,
   "id": "182913c7-c497-4ec8-b309-91c7c6aff2f4",
   "metadata": {},
   "outputs": [
    {
     "data": {
      "text/plain": [
       "array([4, 9, 4, 8, 0, 6])"
      ]
     },
     "execution_count": 52,
     "metadata": {},
     "output_type": "execute_result"
    }
   ],
   "source": [
    "values"
   ]
  },
  {
   "cell_type": "code",
   "execution_count": 53,
   "id": "0867c1f5-ec0d-4929-8606-c704b31ca403",
   "metadata": {},
   "outputs": [
    {
     "data": {
      "text/plain": [
       "array([[ 1,  2,  3],\n",
       "       [11, 12, 13],\n",
       "       [ 1,  2,  3],\n",
       "       [11, 12, 13]])"
      ]
     },
     "execution_count": 53,
     "metadata": {},
     "output_type": "execute_result"
    }
   ],
   "source": [
    "ex_vstack"
   ]
  },
  {
   "cell_type": "code",
   "execution_count": 55,
   "id": "5d5e0331-e573-4d3e-bd4c-1b943118b2fc",
   "metadata": {},
   "outputs": [
    {
     "name": "stdout",
     "output_type": "stream",
     "text": [
      "[0 4 4 6 8 9]\n"
     ]
    }
   ],
   "source": [
    "print(np.sort(values))"
   ]
  },
  {
   "cell_type": "code",
   "execution_count": 56,
   "id": "b39ef2f6-0635-411d-b6e1-ab02e232f3bb",
   "metadata": {},
   "outputs": [
    {
     "name": "stdout",
     "output_type": "stream",
     "text": [
      "[[ 1  2  3]\n",
      " [11 12 13]\n",
      " [ 1  2  3]\n",
      " [11 12 13]]\n"
     ]
    }
   ],
   "source": [
    "print(np.sort(ex_vstack))"
   ]
  },
  {
   "cell_type": "code",
   "execution_count": 57,
   "id": "65785952-74f1-47e8-8986-e51a02305689",
   "metadata": {},
   "outputs": [
    {
     "name": "stdout",
     "output_type": "stream",
     "text": [
      "[['down' 'down' 'down']\n",
      " ['11' '12' '13']\n",
      " ['down' 'down' 'down']\n",
      " ['11' '12' '13']]\n"
     ]
    }
   ],
   "source": [
    "print(np.sort(cond5))"
   ]
  },
  {
   "cell_type": "code",
   "execution_count": 59,
   "id": "6401ae88-eb43-4382-bf0d-b8d6eb590d26",
   "metadata": {},
   "outputs": [
    {
     "data": {
      "text/plain": [
       "array([ 7,  5,  3, 11,  9,  7])"
      ]
     },
     "execution_count": 59,
     "metadata": {},
     "output_type": "execute_result"
    }
   ],
   "source": [
    "arr_a = np.array([7, 5, 3])\n",
    "arr_b = np.array([11, 9, 7])\n",
    "ab = np.hstack((arr_a, arr_b))\n",
    "ab"
   ]
  },
  {
   "cell_type": "code",
   "execution_count": 60,
   "id": "a76a75fb-f3a8-487c-8bc0-89e508752537",
   "metadata": {},
   "outputs": [
    {
     "data": {
      "text/plain": [
       "array([[ 7,  5,  3],\n",
       "       [11,  9,  7]])"
      ]
     },
     "execution_count": 60,
     "metadata": {},
     "output_type": "execute_result"
    }
   ],
   "source": [
    "ab2 = np.vstack((arr_a, arr_b))\n",
    "ab2"
   ]
  },
  {
   "cell_type": "code",
   "execution_count": 61,
   "id": "13b875be-decc-444f-b6ff-ab9a6999d61a",
   "metadata": {},
   "outputs": [
    {
     "data": {
      "text/plain": [
       "array([[[ 7, 11],\n",
       "        [ 5,  9],\n",
       "        [ 3,  7]]])"
      ]
     },
     "execution_count": 61,
     "metadata": {},
     "output_type": "execute_result"
    }
   ],
   "source": [
    "ab3 = np.dstack((arr_a, arr_b))\n",
    "ab3"
   ]
  },
  {
   "cell_type": "code",
   "execution_count": 63,
   "id": "86a2b5f8-1331-4567-8a02-f9d63a82ec04",
   "metadata": {},
   "outputs": [
    {
     "name": "stdout",
     "output_type": "stream",
     "text": [
      "[ 3  5  7  7  9 11]\n"
     ]
    }
   ],
   "source": [
    "print(np.sort(ab))"
   ]
  },
  {
   "cell_type": "code",
   "execution_count": 64,
   "id": "d20a9d54-64a0-4e03-9832-760c890e2c65",
   "metadata": {},
   "outputs": [
    {
     "name": "stdout",
     "output_type": "stream",
     "text": [
      "[[ 3  5  7]\n",
      " [ 7  9 11]]\n"
     ]
    }
   ],
   "source": [
    "print(np.sort(ab2))"
   ]
  },
  {
   "cell_type": "code",
   "execution_count": 65,
   "id": "e3b23a8e-de26-413a-9dca-d5089a6b8b34",
   "metadata": {},
   "outputs": [
    {
     "name": "stdout",
     "output_type": "stream",
     "text": [
      "[[[ 7 11]\n",
      "  [ 5  9]\n",
      "  [ 3  7]]]\n"
     ]
    }
   ],
   "source": [
    "print(np.sort(ab3))"
   ]
  },
  {
   "cell_type": "markdown",
   "id": "196d099b-15ee-400b-8026-3cf9ab8c716f",
   "metadata": {},
   "source": [
    "### 2.B.8 Filtering arrays"
   ]
  },
  {
   "cell_type": "code",
   "execution_count": 66,
   "id": "09b341b6-ef24-4f78-b1b0-9a2efb9077c8",
   "metadata": {},
   "outputs": [
    {
     "data": {
      "text/plain": [
       "array([14,  9,  4, 18,  0,  6])"
      ]
     },
     "execution_count": 66,
     "metadata": {},
     "output_type": "execute_result"
    }
   ],
   "source": [
    "z = np.array([14, 9, 4, 18, 0, 6])\n",
    "z"
   ]
  },
  {
   "cell_type": "code",
   "execution_count": 69,
   "id": "0e28c7c3-59ea-4239-bed7-af92629689ba",
   "metadata": {},
   "outputs": [
    {
     "name": "stdout",
     "output_type": "stream",
     "text": [
      "[True, False, False, True, False, False]\n"
     ]
    }
   ],
   "source": [
    "# To create a boolean index using standard Python\n",
    "\n",
    "filter_z = []\n",
    "\n",
    "for i in z:\n",
    "    if i > 10:\n",
    "        filter_z.append(True)\n",
    "    else:\n",
    "        filter_z.append(False)\n",
    "\n",
    "print(filter_z)"
   ]
  },
  {
   "cell_type": "code",
   "execution_count": 70,
   "id": "78fcec9e-295b-4bd0-af1c-17b2fbae2d0c",
   "metadata": {},
   "outputs": [
    {
     "name": "stdout",
     "output_type": "stream",
     "text": [
      "[14 18]\n"
     ]
    }
   ],
   "source": [
    "# applying boolean index\n",
    "\n",
    "y = z[filter_z]\n",
    "print(y)"
   ]
  },
  {
   "cell_type": "code",
   "execution_count": 71,
   "id": "a0717f23-3188-413e-8e2a-539abe7316c7",
   "metadata": {},
   "outputs": [
    {
     "data": {
      "text/plain": [
       "array([14,  9,  4, 18,  0,  6])"
      ]
     },
     "execution_count": 71,
     "metadata": {},
     "output_type": "execute_result"
    }
   ],
   "source": [
    "z"
   ]
  },
  {
   "cell_type": "code",
   "execution_count": 76,
   "id": "14d3dea2-24d2-4956-b3e8-2df57f2adc0f",
   "metadata": {},
   "outputs": [
    {
     "name": "stdout",
     "output_type": "stream",
     "text": [
      "[14 18]\n"
     ]
    }
   ],
   "source": [
    "x = z > 10\n",
    "z_over_10 = z[x]\n",
    "print(z_over_10)"
   ]
  },
  {
   "cell_type": "markdown",
   "id": "866a1567-b5fe-4ecb-9e76-f15c5e23553a",
   "metadata": {},
   "source": [
    "# Section 2.C Random in NumPy"
   ]
  },
  {
   "cell_type": "markdown",
   "id": "2f1a1293-18aa-4a2e-a8a3-39a84b280b46",
   "metadata": {},
   "source": [
    "### 2.C.2 Simple random functions"
   ]
  },
  {
   "cell_type": "code",
   "execution_count": 79,
   "id": "9a006109-fe82-4573-bbd1-122b42b5a3d1",
   "metadata": {},
   "outputs": [
    {
     "data": {
      "text/plain": [
       "array([[[ 99, 132],\n",
       "        [183, 198],\n",
       "        [117,  38],\n",
       "        [146, 175]],\n",
       "\n",
       "       [[172,  73],\n",
       "        [  3, 107],\n",
       "        [189, 148],\n",
       "        [ 31,  38]],\n",
       "\n",
       "       [[ 56, 133],\n",
       "        [164, 156],\n",
       "        [ 48, 156],\n",
       "        [146,  34]]])"
      ]
     },
     "execution_count": 79,
     "metadata": {},
     "output_type": "execute_result"
    }
   ],
   "source": [
    "# Array of random integers\n",
    "\n",
    "h = np.random.randint(1, 200, size=(3, 4, 2))\n",
    "h"
   ]
  },
  {
   "cell_type": "code",
   "execution_count": 81,
   "id": "4628fe91-29ee-475a-ad3c-10559f1baf1c",
   "metadata": {},
   "outputs": [
    {
     "data": {
      "text/plain": [
       "array([[[0.70687479, 0.90375198],\n",
       "        [0.83204558, 0.39698631],\n",
       "        [0.3975653 , 0.54286576],\n",
       "        [0.30184914, 0.54888286]],\n",
       "\n",
       "       [[0.51280252, 0.32440754],\n",
       "        [0.27891729, 0.81209146],\n",
       "        [0.77040839, 0.24439282],\n",
       "        [0.12043564, 0.46768528]],\n",
       "\n",
       "       [[0.2901464 , 0.64331756],\n",
       "        [0.18499671, 0.00750372],\n",
       "        [0.96446861, 0.42797822],\n",
       "        [0.48332216, 0.16874984]]])"
      ]
     },
     "execution_count": 81,
     "metadata": {},
     "output_type": "execute_result"
    }
   ],
   "source": [
    "# Array of random floats (btwn 0 and 1)\n",
    "\n",
    "j = np.random.rand(3, 4, 2)\n",
    "j"
   ]
  },
  {
   "cell_type": "code",
   "execution_count": 82,
   "id": "a0e5f587-ae7e-485c-b527-c31d9d0cf4b9",
   "metadata": {},
   "outputs": [
    {
     "data": {
      "text/plain": [
       "array([14,  9,  4, 18,  0,  6])"
      ]
     },
     "execution_count": 82,
     "metadata": {},
     "output_type": "execute_result"
    }
   ],
   "source": [
    "z"
   ]
  },
  {
   "cell_type": "code",
   "execution_count": 83,
   "id": "91b6764f-54bf-44cd-9df7-88d15db98f49",
   "metadata": {},
   "outputs": [
    {
     "data": {
      "text/plain": [
       "array([[[ 99, 132],\n",
       "        [183, 198],\n",
       "        [117,  38],\n",
       "        [146, 175]],\n",
       "\n",
       "       [[172,  73],\n",
       "        [  3, 107],\n",
       "        [189, 148],\n",
       "        [ 31,  38]],\n",
       "\n",
       "       [[ 56, 133],\n",
       "        [164, 156],\n",
       "        [ 48, 156],\n",
       "        [146,  34]]])"
      ]
     },
     "execution_count": 83,
     "metadata": {},
     "output_type": "execute_result"
    }
   ],
   "source": [
    "h"
   ]
  },
  {
   "cell_type": "code",
   "execution_count": 87,
   "id": "273c47ec-b9fd-4126-9418-335bf2aabf23",
   "metadata": {},
   "outputs": [
    {
     "data": {
      "text/plain": [
       "array([[ 9, 18],\n",
       "       [ 6,  6],\n",
       "       [ 9,  4]])"
      ]
     },
     "execution_count": 87,
     "metadata": {},
     "output_type": "execute_result"
    }
   ],
   "source": [
    "choice_z = np.random.choice(z, size=(3, 2))\n",
    "choice_z"
   ]
  },
  {
   "cell_type": "code",
   "execution_count": 99,
   "id": "be014a1d-5576-476e-935f-ccc66436cdfd",
   "metadata": {},
   "outputs": [
    {
     "data": {
      "text/plain": [
       "array([132, 132,  99, 132, 132])"
      ]
     },
     "execution_count": 99,
     "metadata": {},
     "output_type": "execute_result"
    }
   ],
   "source": [
    "choice_h = np.random.choice(h[0][0], size=(5))\n",
    "choice_h"
   ]
  },
  {
   "cell_type": "code",
   "execution_count": null,
   "id": "409f4cb4-5385-4c78-b9de-d6dc3443f70c",
   "metadata": {},
   "outputs": [],
   "source": [
    "choice_k = np.random.choice([3, 5, 7, 9, 11, 13], size=(3, 2))\n",
    "choice_k"
   ]
  },
  {
   "cell_type": "code",
   "execution_count": 103,
   "id": "196e0d0e-e8e7-4433-b835-0fb21c5bbfff",
   "metadata": {},
   "outputs": [
    {
     "data": {
      "text/plain": [
       "array([['13', '13'],\n",
       "       ['13', 'a'],\n",
       "       ['13', '9']], dtype='<U11')"
      ]
     },
     "execution_count": 103,
     "metadata": {},
     "output_type": "execute_result"
    }
   ],
   "source": [
    "# Random distribution using probability density\n",
    "\n",
    "choice_m = np.random.choice(['a', 'b', 7, 9, 11, 13], p=[.1, .1, .1, .1, .2, .4], size=(3, 2))\n",
    "choice_m"
   ]
  },
  {
   "cell_type": "markdown",
   "id": "2088db04-f952-4ed7-9a26-bc0235fe6293",
   "metadata": {},
   "source": [
    "### 2.C.5 Normal distribution"
   ]
  },
  {
   "cell_type": "code",
   "execution_count": 108,
   "id": "4246facb-bc86-4209-bb56-fe20761f34c3",
   "metadata": {},
   "outputs": [
    {
     "data": {
      "text/plain": [
       "array([[[2.49637163, 4.96656732, 5.36684312, 2.94617679],\n",
       "        [3.75212001, 6.56045433, 8.70221565, 4.51038339]],\n",
       "\n",
       "       [[7.15334341, 4.30397128, 5.40504351, 2.29122928],\n",
       "        [4.54563424, 9.08970657, 6.50959569, 5.01266795]],\n",
       "\n",
       "       [[5.57064298, 5.48690982, 5.12149375, 4.18841432],\n",
       "        [4.10895765, 4.43872934, 4.01500673, 4.29930754]]])"
      ]
     },
     "execution_count": 108,
     "metadata": {},
     "output_type": "execute_result"
    }
   ],
   "source": [
    "x_normal = np.random.normal(loc=5, scale=2, size=(3, 2, 4))\n",
    "x_normal"
   ]
  },
  {
   "cell_type": "code",
   "execution_count": null,
   "id": "c835f691-9f9d-4cc0-ad13-7a25276b5221",
   "metadata": {},
   "outputs": [],
   "source": []
  }
 ],
 "metadata": {
  "kernelspec": {
   "display_name": "Python 3 (ipykernel)",
   "language": "python",
   "name": "python3"
  },
  "language_info": {
   "codemirror_mode": {
    "name": "ipython",
    "version": 3
   },
   "file_extension": ".py",
   "mimetype": "text/x-python",
   "name": "python",
   "nbconvert_exporter": "python",
   "pygments_lexer": "ipython3",
   "version": "3.12.3"
  }
 },
 "nbformat": 4,
 "nbformat_minor": 5
}
