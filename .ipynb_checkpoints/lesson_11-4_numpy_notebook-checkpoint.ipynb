{
 "cells": [
  {
   "cell_type": "markdown",
   "id": "5b3bfd99-840a-4982-83e5-c6c2f162d43a",
   "metadata": {},
   "source": [
    "# Bess's Really Cool Example Notebook\n",
    "Examples from python script for beginning NumPy"
   ]
  },
  {
   "cell_type": "code",
   "execution_count": 1,
   "id": "326eced8-6599-4898-8bfb-b129ea71d689",
   "metadata": {},
   "outputs": [],
   "source": [
    "import numpy as np"
   ]
  },
  {
   "cell_type": "code",
   "execution_count": 11,
   "id": "fe0a5e0c-3d14-4727-a719-ee9038d0725a",
   "metadata": {},
   "outputs": [
    {
     "data": {
      "text/plain": [
       "[('cucumber', 'celery'), ('avocado', 'kale'), ('tomato', 'olive')]"
      ]
     },
     "execution_count": 11,
     "metadata": {},
     "output_type": "execute_result"
    }
   ],
   "source": [
    "veg = [('cucumber', 'celery'), ('avocado', 'kale'), ('tomato', 'olive')]\n",
    "veg"
   ]
  },
  {
   "cell_type": "code",
   "execution_count": 12,
   "id": "90f59907-c41f-43d6-a0d6-9e0217f07144",
   "metadata": {},
   "outputs": [
    {
     "data": {
      "text/plain": [
       "array([['cucumber', 'celery'],\n",
       "       ['avocado', 'kale'],\n",
       "       ['tomato', 'olive']], dtype='<U8')"
      ]
     },
     "execution_count": 12,
     "metadata": {},
     "output_type": "execute_result"
    }
   ],
   "source": [
    "array_veg = np.array(veg)\n",
    "array_veg"
   ]
  },
  {
   "cell_type": "code",
   "execution_count": 4,
   "id": "4c925e09-8258-416d-93e3-41489b7cd642",
   "metadata": {},
   "outputs": [
    {
     "name": "stdout",
     "output_type": "stream",
     "text": [
      "[['cucumber' 'celery']\n",
      " ['avocado' 'kale']]\n"
     ]
    }
   ],
   "source": [
    "print(array_veg)"
   ]
  },
  {
   "cell_type": "code",
   "execution_count": 5,
   "id": "5e335c2e-b128-4ef8-b21a-1bc141fbac7e",
   "metadata": {},
   "outputs": [
    {
     "data": {
      "text/plain": [
       "2"
      ]
     },
     "execution_count": 5,
     "metadata": {},
     "output_type": "execute_result"
    }
   ],
   "source": [
    "array_veg.ndim"
   ]
  },
  {
   "cell_type": "code",
   "execution_count": 6,
   "id": "53bb0d8c-2d4c-4055-a11f-a61c1a104c5e",
   "metadata": {},
   "outputs": [
    {
     "data": {
      "text/plain": [
       "4"
      ]
     },
     "execution_count": 6,
     "metadata": {},
     "output_type": "execute_result"
    }
   ],
   "source": [
    "array_veg.size"
   ]
  },
  {
   "cell_type": "code",
   "execution_count": 13,
   "id": "b7c157e8-f308-42e3-8cfc-d9f6e7c3601d",
   "metadata": {},
   "outputs": [
    {
     "data": {
      "text/plain": [
       "(3, 2)"
      ]
     },
     "execution_count": 13,
     "metadata": {},
     "output_type": "execute_result"
    }
   ],
   "source": [
    "array_veg.shape"
   ]
  },
  {
   "cell_type": "code",
   "execution_count": 14,
   "id": "b7491cba-2f44-4128-bca2-4594bc05f590",
   "metadata": {},
   "outputs": [
    {
     "data": {
      "text/plain": [
       "array([['cucumber', 'avocado', 'tomato'],\n",
       "       ['celery', 'kale', 'olive']], dtype='<U8')"
      ]
     },
     "execution_count": 14,
     "metadata": {},
     "output_type": "execute_result"
    }
   ],
   "source": [
    "array_veg.T"
   ]
  },
  {
   "cell_type": "code",
   "execution_count": 9,
   "id": "799af41e-6a24-42f0-8382-bdf09cdb9398",
   "metadata": {},
   "outputs": [
    {
     "data": {
      "text/plain": [
       "array([1.99, 2.99, 3.99, 5.  ])"
      ]
     },
     "execution_count": 9,
     "metadata": {},
     "output_type": "execute_result"
    }
   ],
   "source": [
    "array_price = np.array([1.99, 2.99, 3.99, 5])\n",
    "array_price"
   ]
  },
  {
   "cell_type": "code",
   "execution_count": 10,
   "id": "ddf992a1-8a56-4346-aebf-a8f52276ee9a",
   "metadata": {},
   "outputs": [
    {
     "name": "stdout",
     "output_type": "stream",
     "text": [
      "[1.99 2.99 3.99 5.  ]\n"
     ]
    }
   ],
   "source": [
    "print(array_price)"
   ]
  },
  {
   "cell_type": "code",
   "execution_count": null,
   "id": "6b961279-a9d3-4ea2-a0c9-8b2313f70f10",
   "metadata": {},
   "outputs": [],
   "source": []
  }
 ],
 "metadata": {
  "kernelspec": {
   "display_name": "Python 3 (ipykernel)",
   "language": "python",
   "name": "python3"
  },
  "language_info": {
   "codemirror_mode": {
    "name": "ipython",
    "version": 3
   },
   "file_extension": ".py",
   "mimetype": "text/x-python",
   "name": "python",
   "nbconvert_exporter": "python",
   "pygments_lexer": "ipython3",
   "version": "3.12.3"
  }
 },
 "nbformat": 4,
 "nbformat_minor": 5
}
